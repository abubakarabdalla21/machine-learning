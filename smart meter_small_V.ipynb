{
 "cells": [
  {
   "cell_type": "code",
   "execution_count": 7,
   "metadata": {},
   "outputs": [],
   "source": [
    "from __future__ import print_function"
   ]
  },
  {
   "cell_type": "code",
   "execution_count": 144,
   "metadata": {},
   "outputs": [],
   "source": [
    "# training data set\n",
    "\n",
    "training_data = [\n",
    "    ['MAC000001', 'Std', '30:00.0', 0, 'ACORN-A', 'Affluent'],\n",
    "    ['MAC000002', 'Std', '00:00.0', 0, 'ACORN-A', 'NAffluent'],\n",
    "    ['MAC000003', 'Std', '30:00.0', 0, 'ACORN-A', 'Affluent'],\n",
    "    ['MAC000004', 'Std', '00:00.0', 0, 'ACORN-A', 'NAffluent'],\n",
    "    ['MAC000005', 'Std', '30:00.0', 0, 'ACORN-A', 'Affluent'],\n",
    "    ['MAC000006', 'Stdawd', '00:00.0', 0, 'ACORN-A', 'AAffluent'],\n",
    "    ['MAC000007', 'Std', '30:00.0', 0, 'ACORN-A33', 'NAffluent'],\n",
    "    ['MAC000008', 'Std', '00:00.0', 0, 'ACORN-A', 'Affluent'],\n",
    "    ['MAC000009', 'Std', '30:00.0', 0, 'ACORN-A12', 'Affluent'],\n",
    "    ['MAC0000010', 'Std', '00:00.0', 0, 'ACORN-A', 'Affluent']\n",
    "]"
   ]
  },
  {
   "cell_type": "code",
   "execution_count": 179,
   "metadata": {},
   "outputs": [],
   "source": [
    "# column labels\n",
    "# column labels created for the data set to help the functions locate data easily\n",
    "header = ['label', 'label_1', 'Numeric', 'Numeric_1', 'category', 'category_1']"
   ]
  },
  {
   "cell_type": "code",
   "execution_count": 180,
   "metadata": {},
   "outputs": [],
   "source": [
    "# unqiue values from the row and columns in the data set, used to locate a single data.\n",
    "def unique_val(rows, col):\n",
    "      return set([row[col] for row in rows])"
   ]
  },
  {
   "cell_type": "code",
   "execution_count": 181,
   "metadata": {},
   "outputs": [
    {
     "data": {
      "text/plain": [
       "{'MAC000001',\n",
       " 'MAC0000010',\n",
       " 'MAC000002',\n",
       " 'MAC000003',\n",
       " 'MAC000004',\n",
       " 'MAC000005',\n",
       " 'MAC000006',\n",
       " 'MAC000007',\n",
       " 'MAC000008',\n",
       " 'MAC000009'}"
      ]
     },
     "execution_count": 181,
     "metadata": {},
     "output_type": "execute_result"
    }
   ],
   "source": [
    "# Test function for unique vals\n",
    "# prints all unique values\n",
    "unique_val(training_data, 0)"
   ]
  },
  {
   "cell_type": "code",
   "execution_count": 182,
   "metadata": {},
   "outputs": [],
   "source": [
    "## Function class to count quantity of a unqiue data within the data set\n",
    "def class_counts(rows):\n",
    "    counts = {} # dictionary that stores the labels\n",
    "    for row in rows:\n",
    "        label = row[0]\n",
    "        if label not in counts:\n",
    "            counts[label] = 0\n",
    "        counts[label] += 1\n",
    "    return counts"
   ]
  },
  {
   "cell_type": "code",
   "execution_count": 183,
   "metadata": {},
   "outputs": [
    {
     "data": {
      "text/plain": [
       "{'MAC000001': 1,\n",
       " 'MAC000002': 1,\n",
       " 'MAC000003': 1,\n",
       " 'MAC000004': 1,\n",
       " 'MAC000005': 1,\n",
       " 'MAC000006': 1,\n",
       " 'MAC000007': 1,\n",
       " 'MAC000008': 1,\n",
       " 'MAC000009': 1,\n",
       " 'MAC0000010': 1}"
      ]
     },
     "execution_count": 183,
     "metadata": {},
     "output_type": "execute_result"
    }
   ],
   "source": [
    "## Test function for the function counts\n",
    "class_counts(training_data)"
   ]
  },
  {
   "cell_type": "code",
   "execution_count": 184,
   "metadata": {},
   "outputs": [],
   "source": [
    "## Function to check if data is numeric \n",
    "def is_numeric(value):\n",
    "    return isinstance(value, int) or isinstance(value, float)"
   ]
  },
  {
   "cell_type": "code",
   "execution_count": 185,
   "metadata": {},
   "outputs": [
    {
     "data": {
      "text/plain": [
       "True"
      ]
     },
     "execution_count": 185,
     "metadata": {},
     "output_type": "execute_result"
    }
   ],
   "source": [
    "## Test data for is_numeric function \n",
    "is_numeric(7)\n",
    "#is_numeric('Hi');"
   ]
  },
  {
   "cell_type": "code",
   "execution_count": 186,
   "metadata": {},
   "outputs": [],
   "source": [
    "## Function to check if data is a string\n",
    "def is_instance(value):\n",
    "    return isinstance(value, str)"
   ]
  },
  {
   "cell_type": "code",
   "execution_count": 187,
   "metadata": {},
   "outputs": [
    {
     "data": {
      "text/plain": [
       "True"
      ]
     },
     "execution_count": 187,
     "metadata": {},
     "output_type": "execute_result"
    }
   ],
   "source": [
    "## Test data for is_instance data function\n",
    "is_instance('hey')"
   ]
  },
  {
   "cell_type": "code",
   "execution_count": 259,
   "metadata": {},
   "outputs": [],
   "source": [
    "# class to create Questions for the training data set\n",
    "class Question:\n",
    "  \n",
    "    #function to assign variables in class parameters to itself\n",
    "    def __init__(self, column, value):\n",
    "        self.column = column\n",
    "        self.value = value\n",
    "   \n",
    "    # function to match data to example variable\n",
    "    def match(self, example):\n",
    "        val = example[self.column]\n",
    "        if is_numeric(val):\n",
    "            return val >= self.value\n",
    "        else:\n",
    "            return val == self.value\n",
    "    # function to create the conditions to be validated    \n",
    "    def __repr__(self):\n",
    "        if is_numeric(self.value):\n",
    "            condition = \">=\"\n",
    "            return \"Is %s %s %s?\" % (\n",
    "                header[self.column], condition, str(self.value))\n",
    "        \n",
    "        elif  is_instance(self.value):\n",
    "            condition = \"==\"\n",
    "            return \"Is %s %s %s?\" % (\n",
    "                header[self.column], condition, str(self.value))"
   ]
  },
  {
   "cell_type": "code",
   "execution_count": 260,
   "metadata": {},
   "outputs": [
    {
     "data": {
      "text/plain": [
       "Is label == MAC000002?"
      ]
     },
     "execution_count": 260,
     "metadata": {},
     "output_type": "execute_result"
    }
   ],
   "source": [
    "## Test data for the Question class\n",
    "Question(0, \"MAC000002\")"
   ]
  },
  {
   "cell_type": "code",
   "execution_count": 261,
   "metadata": {},
   "outputs": [
    {
     "data": {
      "text/plain": [
       "Is label == MAC000002?"
      ]
     },
     "execution_count": 261,
     "metadata": {},
     "output_type": "execute_result"
    }
   ],
   "source": [
    "## Setting the Question test data to the variable q\n",
    "q = Question(0, 'MAC000002')\n",
    "q"
   ]
  },
  {
   "cell_type": "code",
   "execution_count": 262,
   "metadata": {},
   "outputs": [
    {
     "data": {
      "text/plain": [
       "False"
      ]
     },
     "execution_count": 262,
     "metadata": {},
     "output_type": "execute_result"
    }
   ],
   "source": [
    "## testing where the data being questioned validates against it\n",
    "example = training_data[0]\n",
    "\n",
    "q.match(example)"
   ]
  },
  {
   "cell_type": "code",
   "execution_count": 263,
   "metadata": {},
   "outputs": [],
   "source": [
    "## partitions class that partitions data into true and false data\n",
    "def partition(rows, question):\n",
    "    \n",
    "    \n",
    "    true_rows, false_rows = [], []\n",
    "    \n",
    "    for row in rows:\n",
    "        if question.match(row):\n",
    "            true_rows.append(row)\n",
    "        else:\n",
    "            false_rows.append(row)\n",
    "            \n",
    "    return true_rows, false_rows"
   ]
  },
  {
   "cell_type": "code",
   "execution_count": 264,
   "metadata": {},
   "outputs": [
    {
     "data": {
      "text/plain": [
       "[['MAC000006', 'Stdawd', '00:00.0', 0, 'ACORN-A', 'AAffluent']]"
      ]
     },
     "execution_count": 264,
     "metadata": {},
     "output_type": "execute_result"
    }
   ],
   "source": [
    "## test data for the partition function\n",
    "true_rows, false_rows = partition(training_data, Question(1, 'Stdawd'))\n",
    "# This will contain all the 'Red' rows.\n",
    "true_rows"
   ]
  },
  {
   "cell_type": "code",
   "execution_count": 265,
   "metadata": {},
   "outputs": [
    {
     "data": {
      "text/plain": [
       "[['MAC000001', 'Std', '30:00.0', 0, 'ACORN-A', 'Affluent'],\n",
       " ['MAC000002', 'Std', '00:00.0', 0, 'ACORN-A', 'NAffluent'],\n",
       " ['MAC000003', 'Std', '30:00.0', 0, 'ACORN-A', 'Affluent'],\n",
       " ['MAC000004', 'Std', '00:00.0', 0, 'ACORN-A', 'NAffluent'],\n",
       " ['MAC000005', 'Std', '30:00.0', 0, 'ACORN-A', 'Affluent'],\n",
       " ['MAC000007', 'Std', '30:00.0', 0, 'ACORN-A33', 'NAffluent'],\n",
       " ['MAC000008', 'Std', '00:00.0', 0, 'ACORN-A', 'Affluent'],\n",
       " ['MAC000009', 'Std', '30:00.0', 0, 'ACORN-A12', 'Affluent'],\n",
       " ['MAC0000010', 'Std', '00:00.0', 0, 'ACORN-A', 'Affluent']]"
      ]
     },
     "execution_count": 265,
     "metadata": {},
     "output_type": "execute_result"
    }
   ],
   "source": [
    "## display false rows\n",
    "false_rows"
   ]
  },
  {
   "cell_type": "code",
   "execution_count": 266,
   "metadata": {},
   "outputs": [],
   "source": [
    "#defining gini function to calculate the amount of times a randomly selected data would be wrongly labelled\n",
    "def gini(rows):\n",
    "    counts = class_counts(rows)\n",
    "    impurity = 1\n",
    "    for lbl in counts:\n",
    "        prob_of_lbl = counts[lbl] / float(len(rows))\n",
    "        impurity -= prob_of_lbl**2\n",
    "    return impurity"
   ]
  },
  {
   "cell_type": "code",
   "execution_count": 267,
   "metadata": {},
   "outputs": [
    {
     "data": {
      "text/plain": [
       "0.0"
      ]
     },
     "execution_count": 267,
     "metadata": {},
     "output_type": "execute_result"
    }
   ],
   "source": [
    "# Gini function used on a non mixed data set\n",
    "no_mixing = [['MAC000002'],\n",
    "              ['MAC000002']]\n",
    "# this will return 0\n",
    "gini(no_mixing)"
   ]
  },
  {
   "cell_type": "code",
   "execution_count": 268,
   "metadata": {},
   "outputs": [
    {
     "data": {
      "text/plain": [
       "0.5"
      ]
     },
     "execution_count": 268,
     "metadata": {},
     "output_type": "execute_result"
    }
   ],
   "source": [
    "# Gini function used on a data set evenly mixed\n",
    "some_mixing = [['MAC000002'],\n",
    "              ['MAC00000232']]\n",
    "# this returns 0.50 showing the even mix\n",
    "gini(some_mixing)"
   ]
  },
  {
   "cell_type": "code",
   "execution_count": 269,
   "metadata": {},
   "outputs": [
    {
     "data": {
      "text/plain": [
       "0.7199999999999999"
      ]
     },
     "execution_count": 269,
     "metadata": {},
     "output_type": "execute_result"
    }
   ],
   "source": [
    "# Gini function used on a data set with a lot of mixing\n",
    "lots_of_mixing = [['MAC000002'],\n",
    "                 ['MAC00000232'],\n",
    "                 ['MAC00000265'],\n",
    "                 ['MAC0000028765'],\n",
    "                 ['MAC000002']]\n",
    "\n",
    "gini(lots_of_mixing)"
   ]
  },
  {
   "cell_type": "code",
   "execution_count": 270,
   "metadata": {},
   "outputs": [],
   "source": [
    "# gain information function is used to improve the accuracy of choosing which data belongs to true_rows or false_rows\n",
    "# this is done creating a gain information function that will learn which data is uncertainty within a set.\n",
    "def gain_information(left, right, current_uncert):\n",
    "    p = float(len(left)) / (len(left)) + (len(right))\n",
    "    return current_uncert - p * gini(left) - (1 - p) * gini(right)"
   ]
  },
  {
   "cell_type": "code",
   "execution_count": 271,
   "metadata": {},
   "outputs": [
    {
     "data": {
      "text/plain": [
       "0.8999999999999999"
      ]
     },
     "execution_count": 271,
     "metadata": {},
     "output_type": "execute_result"
    }
   ],
   "source": [
    "# test data for the class gain_infomation\n",
    "# calculate uncertainy of training data\n",
    "current_uncertainty = gini(training_data)\n",
    "current_uncertainty"
   ]
  },
  {
   "cell_type": "code",
   "execution_count": 273,
   "metadata": {},
   "outputs": [
    {
     "data": {
      "text/plain": [
       "[]"
      ]
     },
     "execution_count": 273,
     "metadata": {},
     "output_type": "execute_result"
    }
   ],
   "source": [
    "#creates a partition at the data sets that equal to the value 'MAC00000232'\n",
    "true_rows, false_rows = partition(training_data, Question(0,'MAC00000232'))\n",
    "\n",
    "# Here, the true_rows contain only 'MAC00000232' label.\n",
    "true_rows"
   ]
  },
  {
   "cell_type": "code",
   "execution_count": 274,
   "metadata": {},
   "outputs": [
    {
     "data": {
      "text/plain": [
       "[['MAC000001', 'Std', '30:00.0', 0, 'ACORN-A', 'Affluent'],\n",
       " ['MAC000002', 'Std', '00:00.0', 0, 'ACORN-A', 'NAffluent'],\n",
       " ['MAC000003', 'Std', '30:00.0', 0, 'ACORN-A', 'Affluent'],\n",
       " ['MAC000004', 'Std', '00:00.0', 0, 'ACORN-A', 'NAffluent'],\n",
       " ['MAC000005', 'Std', '30:00.0', 0, 'ACORN-A', 'Affluent'],\n",
       " ['MAC000006', 'Stdawd', '00:00.0', 0, 'ACORN-A', 'AAffluent'],\n",
       " ['MAC000007', 'Std', '30:00.0', 0, 'ACORN-A33', 'NAffluent'],\n",
       " ['MAC000008', 'Std', '00:00.0', 0, 'ACORN-A', 'Affluent'],\n",
       " ['MAC000009', 'Std', '30:00.0', 0, 'ACORN-A12', 'Affluent'],\n",
       " ['MAC0000010', 'Std', '00:00.0', 0, 'ACORN-A', 'Affluent']]"
      ]
     },
     "execution_count": 274,
     "metadata": {},
     "output_type": "execute_result"
    }
   ],
   "source": [
    "# false rows contain every other data\n",
    "false_rows"
   ]
  },
  {
   "cell_type": "code",
   "execution_count": 275,
   "metadata": {},
   "outputs": [],
   "source": [
    "# finds best split is used to learn which question is best to ask for a specific data in order to place them correctly\n",
    "def find_best_split(rows):\n",
    "    \n",
    "    best_gain = 0  \n",
    "    best_question = None  \n",
    "    current_uncert = gini(rows)\n",
    "    n_features = len(rows[0]) - 1  \n",
    "\n",
    "    for col in range(n_features):  \n",
    "\n",
    "        values = set([row[col] for row in rows])\n",
    "\n",
    "        for val in values: \n",
    "\n",
    "            question = Question(col, val)\n",
    "            \n",
    "            true_rows, false_rows = partition(rows, question)\n",
    "\n",
    "            if len(true_rows) == 0 or len(false_rows) == 0:\n",
    "                continue\n",
    "\n",
    "\n",
    "            gain = gain_information(true_rows, false_rows, current_uncert)\n",
    "\n",
    "            if gain >= best_gain:\n",
    "                best_gain, best_question = gain, question\n",
    "\n",
    "    return best_gain, best_question"
   ]
  },
  {
   "cell_type": "code",
   "execution_count": 276,
   "metadata": {},
   "outputs": [
    {
     "data": {
      "text/plain": [
       "Is category == ACORN-A33?"
      ]
     },
     "execution_count": 276,
     "metadata": {},
     "output_type": "execute_result"
    }
   ],
   "source": [
    "# applying find best split function to training data set and collecting the best found question storing it in best_question variable\n",
    "# applying best gain function  to find the best data to learn from and store it in the best_gian variable\n",
    "# testing function\n",
    "best_gain, best_question = find_best_split(training_data)\n",
    "best_question"
   ]
  },
  {
   "cell_type": "code",
   "execution_count": 277,
   "metadata": {},
   "outputs": [],
   "source": [
    "# leaf class holds a dictionary of class which is the number of times a data appears within the training data.\n",
    "class Leaf:\n",
    "    \n",
    "    def __init__ (self, rows):\n",
    "        self.predictions = class_counts(rows)"
   ]
  },
  {
   "cell_type": "code",
   "execution_count": 278,
   "metadata": {},
   "outputs": [],
   "source": [
    "# class decision node asks the question to each data being passed through, then holds the reference to the question to then sends to the child nodes below it.\n",
    "\n",
    "class Decision_Node:\n",
    "    \n",
    "    def __init__(self,\n",
    "               question,\n",
    "               true_br,\n",
    "               false_br):\n",
    "        self.question = question\n",
    "        self.true_br = true_br\n",
    "        self.false_br = false_br"
   ]
  },
  {
   "cell_type": "code",
   "execution_count": 279,
   "metadata": {},
   "outputs": [],
   "source": [
    "# builds tree using the rows attribute\n",
    "def build_tree(rows):\n",
    "    \n",
    "    # attempts to partition dataset on eah of the unique attribute(i.e. label, category etc)\n",
    "    # calculates the information gain and returns question with highest gain\n",
    "    gain, question = find_best_split(rows)\n",
    "    \n",
    "    if gain == 0:\n",
    "        return Leaf(rows)\n",
    "    \n",
    "    true_rows, false_rows = partition(rows, question)\n",
    "    \n",
    "    #builds tree recursively\n",
    "    true_br = build_tree(true_rows)\n",
    "    \n",
    "    false_br = build_tree(false_rows)\n",
    "    \n",
    "    # best feature to ask is recorded along with the following branch and is returned\n",
    "    return Decision_Node(question, true_br, false_br)"
   ]
  },
  {
   "cell_type": "code",
   "execution_count": 280,
   "metadata": {},
   "outputs": [],
   "source": [
    "# function used to print the decision tree\n",
    "def print_tree(node, spacing=\"\"):\n",
    "    \n",
    "    # base case: reaching a leaf\n",
    "    if isinstance(node, Leaf):\n",
    "        print (spacing + \"Predict\", node.predictions)\n",
    "        return\n",
    "    \n",
    "    # printing question at current node\n",
    "    print (spacing + str(node.question))\n",
    "    \n",
    "    # true branch function called recursively\n",
    "    print (spacing + '--> True:')\n",
    "    print_tree(node.true_br, spacing + \"  \")\n",
    "    \n",
    "    # false branch function called recursively\n",
    "    print (spacing + '--> False:')\n",
    "    print_tree(node.false_br, spacing + \"  \")"
   ]
  },
  {
   "cell_type": "code",
   "execution_count": 281,
   "metadata": {},
   "outputs": [],
   "source": [
    "# build tree and assign to my tree variable\n",
    "my_tree = build_tree(training_data)"
   ]
  },
  {
   "cell_type": "code",
   "execution_count": 282,
   "metadata": {},
   "outputs": [
    {
     "name": "stdout",
     "output_type": "stream",
     "text": [
      "Is category == ACORN-A33?\n",
      "--> True:\n",
      "  Predict {'MAC000007': 1}\n",
      "--> False:\n",
      "  Is category == ACORN-A12?\n",
      "  --> True:\n",
      "    Predict {'MAC000009': 1}\n",
      "  --> False:\n",
      "    Is label_1 == Stdawd?\n",
      "    --> True:\n",
      "      Predict {'MAC000006': 1}\n",
      "    --> False:\n",
      "      Is label == MAC000002?\n",
      "      --> True:\n",
      "        Predict {'MAC000002': 1}\n",
      "      --> False:\n",
      "        Is label == MAC0000010?\n",
      "        --> True:\n",
      "          Predict {'MAC0000010': 1}\n",
      "        --> False:\n",
      "          Is label == MAC000005?\n",
      "          --> True:\n",
      "            Predict {'MAC000005': 1}\n",
      "          --> False:\n",
      "            Is label == MAC000008?\n",
      "            --> True:\n",
      "              Predict {'MAC000008': 1}\n",
      "            --> False:\n",
      "              Is Numeric == 00:00.0?\n",
      "              --> True:\n",
      "                Predict {'MAC000004': 1}\n",
      "              --> False:\n",
      "                Is label == MAC000003?\n",
      "                --> True:\n",
      "                  Predict {'MAC000003': 1}\n",
      "                --> False:\n",
      "                  Predict {'MAC000001': 1}\n"
     ]
    }
   ],
   "source": [
    "#print tree \n",
    "print_tree(my_tree)"
   ]
  },
  {
   "cell_type": "code",
   "execution_count": 283,
   "metadata": {},
   "outputs": [],
   "source": [
    "# classify class decides which branch to follow \n",
    "def classify(row, node):\n",
    "    \n",
    "    # leaf \n",
    "    if isinstance(node, Leaf):\n",
    "        return node.predictions\n",
    "    \n",
    "    if node.question.match(row):\n",
    "        return classify(row, node.true_br)\n",
    "    else:\n",
    "        return classify(row, node.false_br)"
   ]
  },
  {
   "cell_type": "code",
   "execution_count": 284,
   "metadata": {},
   "outputs": [
    {
     "data": {
      "text/plain": [
       "{'MAC000001': 1}"
      ]
     },
     "execution_count": 284,
     "metadata": {},
     "output_type": "execute_result"
    }
   ],
   "source": [
    "# test data prediciting first row of data set\n",
    "classify(training_data[0], my_tree)"
   ]
  },
  {
   "cell_type": "code",
   "execution_count": 285,
   "metadata": {},
   "outputs": [],
   "source": [
    " # printing predictions on leaf\n",
    "def print_Leaf(counts):\n",
    "    total = sum(counts.values()) * 1.0\n",
    "    probs = {}\n",
    "    for lbl in counts.keys():\n",
    "        probs[lbl] = str(int(counts[lbl] / total * 100)) + \"%\"\n",
    "    return probs"
   ]
  },
  {
   "cell_type": "code",
   "execution_count": 286,
   "metadata": {},
   "outputs": [
    {
     "data": {
      "text/plain": [
       "{'MAC000001': '100%'}"
      ]
     },
     "execution_count": 286,
     "metadata": {},
     "output_type": "execute_result"
    }
   ],
   "source": [
    "# tset data for printing leaf from tree\n",
    "print_Leaf(classify(training_data[0], my_tree))\n"
   ]
  },
  {
   "cell_type": "code",
   "execution_count": 287,
   "metadata": {},
   "outputs": [],
   "source": [
    "# testing data \n",
    "testing_data = [\n",
    "    ['MAC000002', 'Std', '30:00.0', 0.143, 'ACORN-A', 'Affluent'],\n",
    "    ['MAC000003', 'Std', '00:00.0', 0.663, 'ACORN-A', 'Affluent'],\n",
    "    ['MAC000004', 'Std', '30:00.0', 0.165, 'ACORN-A', 'Affluent'],\n",
    "    ['MAC000005', 'Std', '30:00.0', 0.165,' ACORN-A', 'Affluent'],\n",
    "    ['MAC000006', 'Std', '00:00.0', 0.14, 'ACORN-A', 'Affluent'],\n",
    "    ['MAC000007', 'Std', '30:00.0', 0.148, 'ACORN-A', 'Affluent'],\n",
    "    ['MAC000008' ,'Std', '00:00.0', 0.154, 'ACORN-A', 'Affluent']\n",
    "]"
   ]
  },
  {
   "cell_type": "code",
   "execution_count": 288,
   "metadata": {},
   "outputs": [
    {
     "name": "stdout",
     "output_type": "stream",
     "text": [
      "Actual: MAC000002. Predicted: {'MAC000002': '100%'}\n",
      "Actual: MAC000003. Predicted: {'MAC000004': '100%'}\n",
      "Actual: MAC000004. Predicted: {'MAC000001': '100%'}\n",
      "Actual: MAC000005. Predicted: {'MAC000005': '100%'}\n",
      "Actual: MAC000006. Predicted: {'MAC000004': '100%'}\n",
      "Actual: MAC000007. Predicted: {'MAC000001': '100%'}\n",
      "Actual: MAC000008. Predicted: {'MAC000008': '100%'}\n"
     ]
    }
   ],
   "source": [
    "# finalising testing data and printing its leaf nodes\n",
    "for row in testing_data:\n",
    "    print (\"Actual: %s. Predicted: %s\" %\n",
    "           (row[0], print_Leaf(classify(row, my_tree))))"
   ]
  }
 ],
 "metadata": {
  "kernelspec": {
   "display_name": "Python 3",
   "language": "python",
   "name": "python3"
  },
  "language_info": {
   "codemirror_mode": {
    "name": "ipython",
    "version": 3
   },
   "file_extension": ".py",
   "mimetype": "text/x-python",
   "name": "python",
   "nbconvert_exporter": "python",
   "pygments_lexer": "ipython3",
   "version": "3.8.5"
  }
 },
 "nbformat": 4,
 "nbformat_minor": 4
}
