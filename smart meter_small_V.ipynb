{
 "cells": [
  {
   "cell_type": "code",
   "execution_count": 14,
   "metadata": {},
   "outputs": [],
   "source": [
    "from __future__ import print_function"
   ]
  },
  {
   "cell_type": "code",
   "execution_count": 15,
   "metadata": {},
   "outputs": [],
   "source": [
    "## This is a training data set\n",
    "training_data = [\n",
    "    ['MAC000002', 'Std', '30:00.0', 0, 'ACORN-A', 'Affluent'],\n",
    "    ['MAC000002', 'Std', '00:00.0', 0, 'ACORN-A', 'NAffluent'],\n",
    "    ['MAC000002', 'Std', '30:00.0', 0, 'ACORN-A', 'Affluent'],\n",
    "    ['MAC000002', 'Std', '00:00.0', 0, 'ACORN-A', 'NAffluent'],\n",
    "    ['MAC00000232', 'Std', '30:00.0', 0, 'ACORN-A', 'Affluent'],\n",
    "    ['MAC00000232', 'Stdawd', '00:00.0', 0, 'ACORN-A', 'AAffluent'],\n",
    "    ['MAC000002', 'Std', '30:00.0', 0, 'ACORN-A33', 'NAffluent'],\n",
    "    ['MAC00000232', 'Std', '00:00.0', 0, 'ACORN-A', 'Affluent'],\n",
    "    ['MAC000002', 'Std', '30:00.0', 0, 'ACORN-A12', 'Affluent'],\n",
    "    ['MAC000002', 'Std', '00:00.0', 0, 'ACORN-A', 'Affluent']\n",
    "]"
   ]
  },
  {
   "cell_type": "code",
   "execution_count": 16,
   "metadata": {},
   "outputs": [],
   "source": [
    "## some headers created for the data set to help the functions locate data easily\n",
    "header = ['label', 'label', 'Numeric', 'Numeric', 'category', 'category']"
   ]
  },
  {
   "cell_type": "code",
   "execution_count": 17,
   "metadata": {},
   "outputs": [],
   "source": [
    "## defines unqiue values from the row and columns in the data set, used to locate a single data.\n",
    "def unique_val(rows, col):\n",
    "      return set([row[col] for row in rows])"
   ]
  },
  {
   "cell_type": "code",
   "execution_count": 18,
   "metadata": {},
   "outputs": [
    {
     "data": {
      "text/plain": [
       "{'MAC000002', 'MAC00000232'}"
      ]
     },
     "execution_count": 18,
     "metadata": {},
     "output_type": "execute_result"
    }
   ],
   "source": [
    "## Test function for unique vals\n",
    "unique_val(training_data, 0)"
   ]
  },
  {
   "cell_type": "code",
   "execution_count": 19,
   "metadata": {},
   "outputs": [],
   "source": [
    "## Function class to count quantity of a specific data\n",
    "def class_counts(rows):\n",
    "    counts = {}\n",
    "    for row in rows:\n",
    "        label = row[0]\n",
    "        if label not in counts:\n",
    "            counts[label] = 0\n",
    "        counts[label] += 1\n",
    "    return counts"
   ]
  },
  {
   "cell_type": "code",
   "execution_count": 20,
   "metadata": {},
   "outputs": [
    {
     "data": {
      "text/plain": [
       "{'MAC000002': 7, 'MAC00000232': 3}"
      ]
     },
     "execution_count": 20,
     "metadata": {},
     "output_type": "execute_result"
    }
   ],
   "source": [
    "## Test function for the function counts\n",
    "class_counts(training_data)"
   ]
  },
  {
   "cell_type": "code",
   "execution_count": 21,
   "metadata": {},
   "outputs": [],
   "source": [
    "## Function to check if data is numeric \n",
    "def is_numeric(value):\n",
    "    return isinstance(value, int) or isinstance(value, float)"
   ]
  },
  {
   "cell_type": "code",
   "execution_count": 22,
   "metadata": {},
   "outputs": [
    {
     "data": {
      "text/plain": [
       "True"
      ]
     },
     "execution_count": 22,
     "metadata": {},
     "output_type": "execute_result"
    }
   ],
   "source": [
    "## Test data for is_numeric function \n",
    "is_numeric(7)\n",
    "#is_numeric('Hi');"
   ]
  },
  {
   "cell_type": "code",
   "execution_count": 143,
   "metadata": {},
   "outputs": [],
   "source": [
    "## Function to check if data is a string\n",
    "#def is_instance(value):\n",
    " #   return isinstance(value, str)"
   ]
  },
  {
   "cell_type": "code",
   "execution_count": 144,
   "metadata": {},
   "outputs": [
    {
     "data": {
      "text/plain": [
       "True"
      ]
     },
     "execution_count": 144,
     "metadata": {},
     "output_type": "execute_result"
    }
   ],
   "source": [
    "## Test data for is_instance data function\n",
    "is_instance('hey')"
   ]
  },
  {
   "cell_type": "code",
   "execution_count": 145,
   "metadata": {},
   "outputs": [],
   "source": [
    "## class to create Questions for the training data set\n",
    "class Question:\n",
    "    \n",
    "    def __init__(self, column, value):\n",
    "        self.column = column\n",
    "        self.value = value\n",
    "    \n",
    "    def match(self, example):\n",
    "        val = example[self.column]\n",
    "        if is_numeric(val):\n",
    "            return val >= self.value\n",
    "        else:\n",
    "            return val == self.value\n",
    "        \n",
    "#    def __repr__(self):\n",
    "  #      if is_numeric(self.value):\n",
    " #           condition = \">=\"\n",
    "   #         return \"Is %s %s %s?\" % (\n",
    "    #            header[self.column], condition, str(self.value))\n",
    "        \n",
    "     #   elif  is_instance(self.value):\n",
    "      #      condition = \"==\"\n",
    "       #     return \"Is %s %s %s?\" % (\n",
    "        #        header[self.column], condition, str(self.value))\n",
    "    def __repr__(self):\n",
    "        condition = \"==\"\n",
    "        if is_numeric(self.value):\n",
    "            condition = \">=\"\n",
    "        return \"Is %s %s %s?\" % (\n",
    "            header[self.column], condition, str(self.value))\n",
    "    \n",
    "    "
   ]
  },
  {
   "cell_type": "code",
   "execution_count": 146,
   "metadata": {},
   "outputs": [
    {
     "data": {
      "text/plain": [
       "Is label == MAC000002?"
      ]
     },
     "execution_count": 146,
     "metadata": {},
     "output_type": "execute_result"
    }
   ],
   "source": [
    "## Test data for the Question class\n",
    "Question(0, \"MAC000002\")"
   ]
  },
  {
   "cell_type": "code",
   "execution_count": 147,
   "metadata": {},
   "outputs": [
    {
     "data": {
      "text/plain": [
       "Is label == M?"
      ]
     },
     "execution_count": 147,
     "metadata": {},
     "output_type": "execute_result"
    }
   ],
   "source": [
    "## Setting the Question test data to the variable q\n",
    "q = Question(0, 'M')\n",
    "q"
   ]
  },
  {
   "cell_type": "code",
   "execution_count": 148,
   "metadata": {},
   "outputs": [
    {
     "data": {
      "text/plain": [
       "False"
      ]
     },
     "execution_count": 148,
     "metadata": {},
     "output_type": "execute_result"
    }
   ],
   "source": [
    "## testing where the data being questioned validates against it\n",
    "example = training_data[0]\n",
    "\n",
    "q.match(example)"
   ]
  },
  {
   "cell_type": "code",
   "execution_count": 149,
   "metadata": {},
   "outputs": [],
   "source": [
    "## partitions class that partitions data into true and false data\n",
    "def partition(rows, question):\n",
    "    \n",
    "    \n",
    "    true_rows, false_rows = [], []\n",
    "    \n",
    "    for row in rows:\n",
    "        if question.match(row):\n",
    "            true_rows.append(row)\n",
    "        else:\n",
    "            false_rows.append(row)\n",
    "            \n",
    "    return true_rows, false_rows"
   ]
  },
  {
   "cell_type": "code",
   "execution_count": 150,
   "metadata": {},
   "outputs": [
    {
     "data": {
      "text/plain": [
       "[['MAC00000232', 'Stdawd', '00:00.0', 0, 'ACORN-A', 'AAffluent']]"
      ]
     },
     "execution_count": 150,
     "metadata": {},
     "output_type": "execute_result"
    }
   ],
   "source": [
    "## test data for the partition function\n",
    "true_rows, false_rows = partition(training_data, Question(1, 'Stdawd'))\n",
    "# This will contain all the 'Red' rows.\n",
    "true_rows"
   ]
  },
  {
   "cell_type": "code",
   "execution_count": 151,
   "metadata": {},
   "outputs": [
    {
     "data": {
      "text/plain": [
       "[['MAC000002', 'Std', '30:00.0', 0, 'ACORN-A', 'Affluent'],\n",
       " ['MAC000002', 'Std', '00:00.0', 0, 'ACORN-A', 'NAffluent'],\n",
       " ['MAC000002', 'Std', '30:00.0', 0, 'ACORN-A', 'Affluent'],\n",
       " ['MAC000002', 'Std', '00:00.0', 0, 'ACORN-A', 'NAffluent'],\n",
       " ['MAC00000232', 'Std', '30:00.0', 0, 'ACORN-A', 'Affluent'],\n",
       " ['MAC000002', 'Std', '30:00.0', 0, 'ACORN-A33', 'NAffluent'],\n",
       " ['MAC00000232', 'Std', '00:00.0', 0, 'ACORN-A', 'Affluent'],\n",
       " ['MAC000002', 'Std', '30:00.0', 0, 'ACORN-A12', 'Affluent'],\n",
       " ['MAC000002', 'Std', '00:00.0', 0, 'ACORN-A', 'Affluent']]"
      ]
     },
     "execution_count": 151,
     "metadata": {},
     "output_type": "execute_result"
    }
   ],
   "source": [
    "## display false rows\n",
    "false_rows"
   ]
  },
  {
   "cell_type": "code",
   "execution_count": 152,
   "metadata": {},
   "outputs": [],
   "source": [
    "#defining gini function to calculate the amount of times a randomly selected data would be wrongly labelled\n",
    "def gini(rows):\n",
    "    counts = class_counts(rows)\n",
    "    impurity = 1\n",
    "    for lbl in counts:\n",
    "        prob_of_lbl = counts[lbl] / float(len(rows))\n",
    "        impurity -= prob_of_lbl**2\n",
    "    return impurity"
   ]
  },
  {
   "cell_type": "code",
   "execution_count": 153,
   "metadata": {},
   "outputs": [
    {
     "data": {
      "text/plain": [
       "0.0"
      ]
     },
     "execution_count": 153,
     "metadata": {},
     "output_type": "execute_result"
    }
   ],
   "source": [
    "# Gini function used on a non mixed data set\n",
    "no_mixing = [['MAC000002'],\n",
    "              ['MAC000002']]\n",
    "# this will return 0\n",
    "gini(no_mixing)"
   ]
  },
  {
   "cell_type": "code",
   "execution_count": 154,
   "metadata": {},
   "outputs": [
    {
     "data": {
      "text/plain": [
       "0.5"
      ]
     },
     "execution_count": 154,
     "metadata": {},
     "output_type": "execute_result"
    }
   ],
   "source": [
    "# Gini function used on a data set evenly mixed\n",
    "some_mixing = [['MAC000002'],\n",
    "              ['MAC00000232']]\n",
    "# this returns 0.50 showing the even mix\n",
    "gini(some_mixing)"
   ]
  },
  {
   "cell_type": "code",
   "execution_count": 155,
   "metadata": {},
   "outputs": [
    {
     "data": {
      "text/plain": [
       "0.7199999999999999"
      ]
     },
     "execution_count": 155,
     "metadata": {},
     "output_type": "execute_result"
    }
   ],
   "source": [
    "# Gini function used on a data set with a lot of mixing\n",
    "lots_of_mixing = [['MAC000002'],\n",
    "                 ['MAC00000232'],\n",
    "                 ['MAC00000265'],\n",
    "                 ['MAC0000028765'],\n",
    "                 ['MAC000002']]\n",
    "\n",
    "gini(lots_of_mixing)"
   ]
  },
  {
   "cell_type": "code",
   "execution_count": 156,
   "metadata": {},
   "outputs": [],
   "source": [
    "# gain information function is used to improve the accuracy of choosing which data belongs to true_rows or false_rows\n",
    "# this is done creating a gain information function that will learn which data is uncertainty within a set.\n",
    "def gain_information(left, right, current_uncert):\n",
    "    p = float(len(left)) / (len(left)) + (len(right))\n",
    "    return current_uncert - p * gini(left) - (1 - p) * gini(right)"
   ]
  },
  {
   "cell_type": "code",
   "execution_count": 157,
   "metadata": {},
   "outputs": [
    {
     "data": {
      "text/plain": [
       "0.42000000000000004"
      ]
     },
     "execution_count": 157,
     "metadata": {},
     "output_type": "execute_result"
    }
   ],
   "source": [
    "# test data for the class gain_infomation\n",
    "current_uncertainty = gini(training_data)\n",
    "current_uncertainty"
   ]
  },
  {
   "cell_type": "code",
   "execution_count": 158,
   "metadata": {},
   "outputs": [],
   "source": [
    "##Used to check the amount of information gained from partitioning at \n",
    "#true_rows, false_rows = partition(training_data, Question(0, 'MAC000002'))\n",
    "#info_gain(true_rows, false_rows, current_uncertainty)"
   ]
  },
  {
   "cell_type": "code",
   "execution_count": 159,
   "metadata": {},
   "outputs": [
    {
     "data": {
      "text/plain": [
       "[['MAC00000232', 'Std', '30:00.0', 0, 'ACORN-A', 'Affluent'],\n",
       " ['MAC00000232', 'Stdawd', '00:00.0', 0, 'ACORN-A', 'AAffluent'],\n",
       " ['MAC00000232', 'Std', '00:00.0', 0, 'ACORN-A', 'Affluent']]"
      ]
     },
     "execution_count": 159,
     "metadata": {},
     "output_type": "execute_result"
    }
   ],
   "source": [
    "#creating a partition at the data sets that equal to the value 'MAC00000232'\n",
    "true_rows, false_rows = partition(training_data, Question(0,'MAC00000232'))\n",
    "\n",
    "# Here, the true_rows contain only 'Grapes'.\n",
    "true_rows"
   ]
  },
  {
   "cell_type": "code",
   "execution_count": 160,
   "metadata": {},
   "outputs": [
    {
     "data": {
      "text/plain": [
       "[['MAC000002', 'Std', '30:00.0', 0, 'ACORN-A', 'Affluent'],\n",
       " ['MAC000002', 'Std', '00:00.0', 0, 'ACORN-A', 'NAffluent'],\n",
       " ['MAC000002', 'Std', '30:00.0', 0, 'ACORN-A', 'Affluent'],\n",
       " ['MAC000002', 'Std', '00:00.0', 0, 'ACORN-A', 'NAffluent'],\n",
       " ['MAC000002', 'Std', '30:00.0', 0, 'ACORN-A33', 'NAffluent'],\n",
       " ['MAC000002', 'Std', '30:00.0', 0, 'ACORN-A12', 'Affluent'],\n",
       " ['MAC000002', 'Std', '00:00.0', 0, 'ACORN-A', 'Affluent']]"
      ]
     },
     "execution_count": 160,
     "metadata": {},
     "output_type": "execute_result"
    }
   ],
   "source": [
    "false_rows"
   ]
  },
  {
   "cell_type": "code",
   "execution_count": 161,
   "metadata": {},
   "outputs": [],
   "source": [
    "# find best split is used to learn which question is best to ask for a specific data in order to place them correctly\n",
    "def find_best_split(rows):\n",
    "    \n",
    "    best_gain = 0  \n",
    "    best_question = None  \n",
    "    current_uncertainty = gini(rows)\n",
    "    n_features = len(rows[0]) - 1  \n",
    "\n",
    "    for col in range(n_features):  \n",
    "\n",
    "        values = set([row[col] for row in rows])\n",
    "\n",
    "        for val in values: \n",
    "\n",
    "            question = Question(col, val)\n",
    "            \n",
    "            true_rows, false_rows = partition(rows, question)\n",
    "\n",
    "            if len(true_rows) == 0 or len(false_rows) == 0:\n",
    "                continue\n",
    "\n",
    "\n",
    "            gain = gain_information(true_rows, false_rows, current_uncertainty)\n",
    "\n",
    "            if gain >= best_gain:\n",
    "                best_gain, best_question = gain, question\n",
    "\n",
    "    return best_gain, best_question"
   ]
  },
  {
   "cell_type": "code",
   "execution_count": 162,
   "metadata": {},
   "outputs": [
    {
     "data": {
      "text/plain": [
       "Is category == ACORN-A33?"
      ]
     },
     "execution_count": 162,
     "metadata": {},
     "output_type": "execute_result"
    }
   ],
   "source": [
    "# applying find best split function to training data set and collecting the best found question storing it in best_question variable\n",
    "# applying best gain function  to find the best data to learn from and store it in the best_gian variable\n",
    "# testing function\n",
    "best_gain, best_question = find_best_split(training_data)\n",
    "best_question"
   ]
  },
  {
   "cell_type": "code",
   "execution_count": 163,
   "metadata": {},
   "outputs": [],
   "source": [
    "# leaf class holds a dictionary of class which is the number of times a data appears within the training data.\n",
    "class Leaf:\n",
    "    \n",
    "    def __init__ (self, rows):\n",
    "        self.predicitons = class_counts(rows)"
   ]
  },
  {
   "cell_type": "code",
   "execution_count": 164,
   "metadata": {},
   "outputs": [],
   "source": [
    "# class decision node asks the question to each data being passed through, then holds the reference to the question to then sends to the child nodes below it.\n",
    "\n",
    "class Decision_Node:\n",
    "    \n",
    "    def __init__(self,\n",
    "               question,\n",
    "               true_branch,\n",
    "               false_branch):\n",
    "        self.question = question\n",
    "        self.true_branch = true_branch\n",
    "        self.false_branch = false_branch"
   ]
  },
  {
   "cell_type": "code",
   "execution_count": 165,
   "metadata": {},
   "outputs": [],
   "source": [
    "def build_tree(rows):\n",
    "    \n",
    "    \n",
    "    gain, question = find_best_split(rows)\n",
    "    \n",
    "    if gain == 0:\n",
    "        return Leaf(rows)\n",
    "    \n",
    "    true_rows, false_rows = partition(rows, question)\n",
    "    \n",
    "    true_branch = build_tree(true_rows)\n",
    "    \n",
    "    false_branch = build_tree(false_rows)\n",
    "    \n",
    "    \n",
    "    return Decision_Node(question, true_branch, false_branch)"
   ]
  },
  {
   "cell_type": "code",
   "execution_count": 166,
   "metadata": {},
   "outputs": [],
   "source": [
    "# function used to print the decision tree\n",
    "def print_tree(node, spacing=\"\"):\n",
    "    \n",
    "    if isinstance(node, leaf):\n",
    "        print (spacing + \"Predict\", node.predictions)\n",
    "        return\n",
    "\n",
    "    print (spacing + str(node.question))\n",
    "\n",
    "    print (spacing + '--> True:')\n",
    "    print_tree(node.true_branch, spacing + \"  \")\n",
    "\n",
    "    print (spacing + '--> False:')\n",
    "    print_tree(node.false_branch, spacing + \"  \")"
   ]
  },
  {
   "cell_type": "code",
   "execution_count": 167,
   "metadata": {},
   "outputs": [],
   "source": [
    "my_tree = build_tree(training_data)"
   ]
  },
  {
   "cell_type": "code",
   "execution_count": 169,
   "metadata": {},
   "outputs": [
    {
     "name": "stdout",
     "output_type": "stream",
     "text": [
      "Is category == ACORN-A33?\n",
      "--> True:\n"
     ]
    },
    {
     "ename": "AttributeError",
     "evalue": "'Leaf' object has no attribute 'question'",
     "output_type": "error",
     "traceback": [
      "\u001b[1;31m---------------------------------------------------------------------------\u001b[0m",
      "\u001b[1;31mAttributeError\u001b[0m                            Traceback (most recent call last)",
      "\u001b[1;32m<ipython-input-169-1fa7e65a823f>\u001b[0m in \u001b[0;36m<module>\u001b[1;34m\u001b[0m\n\u001b[1;32m----> 1\u001b[1;33m \u001b[0mprint_tree\u001b[0m\u001b[1;33m(\u001b[0m\u001b[0mmy_tree\u001b[0m\u001b[1;33m)\u001b[0m\u001b[1;33m\u001b[0m\u001b[1;33m\u001b[0m\u001b[0m\n\u001b[0m",
      "\u001b[1;32m<ipython-input-166-e2b5d74730ed>\u001b[0m in \u001b[0;36mprint_tree\u001b[1;34m(node, spacing)\u001b[0m\n\u001b[0;32m      9\u001b[0m \u001b[1;33m\u001b[0m\u001b[0m\n\u001b[0;32m     10\u001b[0m     \u001b[0mprint\u001b[0m \u001b[1;33m(\u001b[0m\u001b[0mspacing\u001b[0m \u001b[1;33m+\u001b[0m \u001b[1;34m'--> True:'\u001b[0m\u001b[1;33m)\u001b[0m\u001b[1;33m\u001b[0m\u001b[1;33m\u001b[0m\u001b[0m\n\u001b[1;32m---> 11\u001b[1;33m     \u001b[0mprint_tree\u001b[0m\u001b[1;33m(\u001b[0m\u001b[0mnode\u001b[0m\u001b[1;33m.\u001b[0m\u001b[0mtrue_branch\u001b[0m\u001b[1;33m,\u001b[0m \u001b[0mspacing\u001b[0m \u001b[1;33m+\u001b[0m \u001b[1;34m\"  \"\u001b[0m\u001b[1;33m)\u001b[0m\u001b[1;33m\u001b[0m\u001b[1;33m\u001b[0m\u001b[0m\n\u001b[0m\u001b[0;32m     12\u001b[0m \u001b[1;33m\u001b[0m\u001b[0m\n\u001b[0;32m     13\u001b[0m     \u001b[0mprint\u001b[0m \u001b[1;33m(\u001b[0m\u001b[0mspacing\u001b[0m \u001b[1;33m+\u001b[0m \u001b[1;34m'--> False:'\u001b[0m\u001b[1;33m)\u001b[0m\u001b[1;33m\u001b[0m\u001b[1;33m\u001b[0m\u001b[0m\n",
      "\u001b[1;32m<ipython-input-166-e2b5d74730ed>\u001b[0m in \u001b[0;36mprint_tree\u001b[1;34m(node, spacing)\u001b[0m\n\u001b[0;32m      6\u001b[0m         \u001b[1;32mreturn\u001b[0m\u001b[1;33m\u001b[0m\u001b[1;33m\u001b[0m\u001b[0m\n\u001b[0;32m      7\u001b[0m \u001b[1;33m\u001b[0m\u001b[0m\n\u001b[1;32m----> 8\u001b[1;33m     \u001b[0mprint\u001b[0m \u001b[1;33m(\u001b[0m\u001b[0mspacing\u001b[0m \u001b[1;33m+\u001b[0m \u001b[0mstr\u001b[0m\u001b[1;33m(\u001b[0m\u001b[0mnode\u001b[0m\u001b[1;33m.\u001b[0m\u001b[0mquestion\u001b[0m\u001b[1;33m)\u001b[0m\u001b[1;33m)\u001b[0m\u001b[1;33m\u001b[0m\u001b[1;33m\u001b[0m\u001b[0m\n\u001b[0m\u001b[0;32m      9\u001b[0m \u001b[1;33m\u001b[0m\u001b[0m\n\u001b[0;32m     10\u001b[0m     \u001b[0mprint\u001b[0m \u001b[1;33m(\u001b[0m\u001b[0mspacing\u001b[0m \u001b[1;33m+\u001b[0m \u001b[1;34m'--> True:'\u001b[0m\u001b[1;33m)\u001b[0m\u001b[1;33m\u001b[0m\u001b[1;33m\u001b[0m\u001b[0m\n",
      "\u001b[1;31mAttributeError\u001b[0m: 'Leaf' object has no attribute 'question'"
     ]
    }
   ],
   "source": [
    "print_tree(my_tree)"
   ]
  },
  {
   "cell_type": "code",
   "execution_count": null,
   "metadata": {},
   "outputs": [],
   "source": []
  },
  {
   "cell_type": "code",
   "execution_count": null,
   "metadata": {},
   "outputs": [],
   "source": []
  },
  {
   "cell_type": "code",
   "execution_count": null,
   "metadata": {},
   "outputs": [],
   "source": []
  },
  {
   "cell_type": "code",
   "execution_count": null,
   "metadata": {},
   "outputs": [],
   "source": []
  },
  {
   "cell_type": "code",
   "execution_count": null,
   "metadata": {},
   "outputs": [],
   "source": []
  },
  {
   "cell_type": "code",
   "execution_count": null,
   "metadata": {},
   "outputs": [],
   "source": []
  },
  {
   "cell_type": "code",
   "execution_count": null,
   "metadata": {},
   "outputs": [],
   "source": []
  },
  {
   "cell_type": "code",
   "execution_count": null,
   "metadata": {},
   "outputs": [],
   "source": []
  }
 ],
 "metadata": {
  "kernelspec": {
   "display_name": "Python 3",
   "language": "python",
   "name": "python3"
  },
  "language_info": {
   "codemirror_mode": {
    "name": "ipython",
    "version": 3
   },
   "file_extension": ".py",
   "mimetype": "text/x-python",
   "name": "python",
   "nbconvert_exporter": "python",
   "pygments_lexer": "ipython3",
   "version": "3.8.5"
  }
 },
 "nbformat": 4,
 "nbformat_minor": 4
}
